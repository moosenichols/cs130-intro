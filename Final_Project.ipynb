{
  "nbformat": 4,
  "nbformat_minor": 0,
  "metadata": {
    "colab": {
      "provenance": [],
      "include_colab_link": true
    },
    "kernelspec": {
      "name": "python3",
      "display_name": "Python 3"
    },
    "language_info": {
      "name": "python"
    }
  },
  "cells": [
    {
      "cell_type": "markdown",
      "metadata": {
        "id": "view-in-github",
        "colab_type": "text"
      },
      "source": [
        "<a href=\"https://colab.research.google.com/github/moosenichols/cs130-intro/blob/main/Final_Project.ipynb\" target=\"_parent\"><img src=\"https://colab.research.google.com/assets/colab-badge.svg\" alt=\"Open In Colab\"/></a>"
      ]
    },
    {
      "cell_type": "code",
      "execution_count": null,
      "metadata": {
        "id": "YdIZz4Jq9zhG"
      },
      "outputs": [],
      "source": [
        "import pandas as pd\n",
        "import matplotlib.pyplot as plt\n",
        "import urllib.request\n",
        "hand = urllib.request.urlopen('https://www.fulltextarchive.com/book/The-Wonderful-Wizard-of-Oz/')\n",
        "import re"
      ]
    },
    {
      "cell_type": "code",
      "source": [
        "double_o = []\n",
        "counter = 0\n",
        "for line in hand:\n",
        "    line = line.decode().strip()\n",
        "    #word = re.findall('o{2}', line)\n",
        "    #re.findall('[o]{2}', word)\n",
        "    if re.search('[o]{2}', line) is not None:\n",
        "      counter = counter + 1\n",
        "print(\"Number of words with 2 O's:\", counter)"
      ],
      "metadata": {
        "id": "NzrjfkIcNHjU",
        "colab": {
          "base_uri": "https://localhost:8080/"
        },
        "outputId": "d43dbb19-a594-4242-a40a-6f7573e1b4b8"
      },
      "execution_count": null,
      "outputs": [
        {
          "output_type": "stream",
          "name": "stdout",
          "text": [
            "Number of words with 2 O's: 256\n"
          ]
        }
      ]
    },
    {
      "cell_type": "code",
      "source": [
        "num_Dorothy1 = []\n",
        "num_Scarecrow1 = []\n",
        "num_TinWoodman1 = []\n",
        "num_CowardlyLion1 = []\n",
        "num_Toto1 = []\n",
        "for line in hand:\n",
        "    line = line.decode().strip()\n",
        "    num_Dorothy2 = re.findall('Dorothy', line)\n",
        "    num_Dorothy1 = num_Dorothy1 + num_Dorothy2\n",
        "    num_Scarecrow2 = re.findall('Scarecrow', line)\n",
        "    num_Scarecrow1 = num_Scarecrow1 + num_Scarecrow2\n",
        "    num_TinWoodman2 = re.findall('Tin Woodman', line)\n",
        "    num_TinWoodman1 = num_TinWoodman1 + num_TinWoodman2\n",
        "    num_CowardlyLion2 = re.findall('Cowardly Lion', line)\n",
        "    num_CowardlyLion1 = num_CowardlyLion1 + num_CowardlyLion2\n",
        "    num_Toto2 = re.findall('Toto', line)\n",
        "    num_Toto1 = num_Toto1 + num_Toto2\n",
        "print(\"Number of times Dorothy is mentioned:\", len(num_Dorothy1))\n",
        "print(\"Number of times Scarecrow is mentioned:\", len(num_Scarecrow1))\n",
        "print(\"Number of times Tin Woodman is mentioned:\", len(num_TinWoodman1))\n",
        "print(\"Number of times Cowardly Lion is mentioned:\", len(num_CowardlyLion1))\n",
        "print(\"Number of times Toto is mentioned:\", len(num_Toto1))"
      ],
      "metadata": {
        "colab": {
          "base_uri": "https://localhost:8080/"
        },
        "id": "C-1dDh6v_HvK",
        "outputId": "42c8a6b6-b961-4d98-ac57-b83d96752e9a"
      },
      "execution_count": null,
      "outputs": [
        {
          "output_type": "stream",
          "name": "stdout",
          "text": [
            "Number of times Dorothy is mentioned: 0\n",
            "Number of times Scarecrow is mentioned: 0\n",
            "Number of times Tin Woodman is mentioned: 0\n",
            "Number of times Cowardly Lion is mentioned: 0\n",
            "Number of times Toto is mentioned: 0\n"
          ]
        }
      ]
    }
  ]
}