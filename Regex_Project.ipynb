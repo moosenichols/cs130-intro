{
  "nbformat": 4,
  "nbformat_minor": 0,
  "metadata": {
    "colab": {
      "provenance": [],
      "authorship_tag": "ABX9TyOG4BJEya4kR3c2cKtgOeqd",
      "include_colab_link": true
    },
    "kernelspec": {
      "name": "python3",
      "display_name": "Python 3"
    },
    "language_info": {
      "name": "python"
    }
  },
  "cells": [
    {
      "cell_type": "markdown",
      "metadata": {
        "id": "view-in-github",
        "colab_type": "text"
      },
      "source": [
        "<a href=\"https://colab.research.google.com/github/moosenichols/cs130-intro/blob/main/Regex_Project.ipynb\" target=\"_parent\"><img src=\"https://colab.research.google.com/assets/colab-badge.svg\" alt=\"Open In Colab\"/></a>"
      ]
    },
    {
      "cell_type": "code",
      "execution_count": 37,
      "metadata": {
        "colab": {
          "base_uri": "https://localhost:8080/"
        },
        "id": "ToIL7Yn0f3h3",
        "outputId": "29416081-b9f9-4194-d3ba-e0d7780ccd1e"
      },
      "outputs": [
        {
          "output_type": "stream",
          "name": "stdout",
          "text": [
            "0000 ++++++\n",
            "0001 +\n",
            "0002 +++++\n",
            "0044 +++\n",
            "0102 ++\n",
            "0109 +\n",
            "0112 +\n",
            "0202 +\n",
            "0209 +\n",
            "0211 +\n",
            "0212 +\n",
            "0222 +\n",
            "0224 +\n",
            "0402 +\n",
            "0410 +\n",
            "0909 +\n",
            "0911 +\n",
            "0922 +\n",
            "1000 ++\n",
            "1001 +\n",
            "1014 +\n",
            "1019 +\n",
            "1024 ++++++++\n",
            "1090 +++++\n",
            "1100 +\n",
            "1111 +++\n",
            "1120 +\n",
            "1122 +++\n",
            "1129 +++++++++\n",
            "1200 +++\n",
            "1209 ++\n",
            "1211 +\n",
            "1212 +\n",
            "1214 ++\n",
            "1222 +\n",
            "1242 +\n",
            "1414 +\n",
            "1902 +\n",
            "1911 +\n",
            "1919 ++\n",
            "1940 ++\n",
            "1941 +\n",
            "1944 ++++++\n",
            "1949 +++\n",
            "1990 ++++++\n",
            "1991 ++++++\n",
            "1992 ++++++++++++++++++++++++++++++++++++\n",
            "1994 +++++\n",
            "1999 +++++++\n",
            "2000 ++++++++++++\n",
            "2001 +++++++++++++++++++++++++\n",
            "2002 ++++++++++\n",
            "2004 ++++++++++++++++++++++++++++++++++++++++++++++++++++++++++++++++++++++++++++++++++++++++++++++++++++++++++++++++++++++++++++++++++++++++++++++++\n",
            "2009 ++++++++++++++++++++++\n",
            "2010 ++++++++++++++++++++\n",
            "2011 +++++++++++\n",
            "2012 ++++++++++++++++++++\n",
            "2014 +++++++++++++++++++++++++\n",
            "2019 +++++++++++++++++++++++\n",
            "2020 ++++++++++++++++++++++++++\n",
            "2021 ++++++++++++++++++++++++++\n",
            "2022 ++++++++++++++\n",
            "2024 +++++++++++++++++++++++++++\n",
            "2029 ++++++++\n",
            "2141 ++\n",
            "2424 ++\n",
            "4041 ++\n",
            "4999 +\n",
            "9009 +\n",
            "9200 ++\n",
            "9204 ++++\n",
            "9400 ++++\n",
            "9490 ++++\n",
            "9904 +++++\n",
            "9942 ++\n"
          ]
        }
      ],
      "source": [
        "import urllib.request\n",
        "import re\n",
        "def ascii_histogram(seq) -> None:\n",
        "   counted = count_elements(seq)\n",
        "   for key in sorted(counted):\n",
        "     plus_str = '+' * counted[key]\n",
        "     print(f'{key} {plus_str}')\n",
        "def count_elements(seq):\n",
        "  hist = dict()\n",
        "  for date in seq:\n",
        "    hist[date] = hist.get(date,0) + 1\n",
        "  return hist\n",
        "hand = urllib.request.urlopen('https://en.wikipedia.org/wiki/Grace_Hopper')\n",
        "years = []\n",
        "for line in hand:\n",
        "    line = line.decode().strip()\n",
        "    year = re.findall('[1900-2024]{4}', line)\n",
        "    years = years + year\n",
        "ascii_histogram(years)"
      ]
    }
  ]
}