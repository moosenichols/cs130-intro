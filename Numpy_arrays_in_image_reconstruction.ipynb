{
  "cells": [
    {
      "cell_type": "markdown",
      "metadata": {
        "id": "view-in-github",
        "colab_type": "text"
      },
      "source": [
        "<a href=\"https://colab.research.google.com/github/moosenichols/cs130-intro/blob/main/Numpy_arrays_in_image_reconstruction.ipynb\" target=\"_parent\"><img src=\"https://colab.research.google.com/assets/colab-badge.svg\" alt=\"Open In Colab\"/></a>"
      ]
    },
    {
      "cell_type": "code",
      "execution_count": null,
      "metadata": {
        "id": "5ThITQNAVqoK"
      },
      "outputs": [],
      "source": [
        "import matplotlib.pyplot as plt\n",
        "import numpy as np\n",
        "from numpy.linalg import svd\n",
        "from sklearn import datasets\n",
        "import random\n",
        "\n",
        "data = datasets.fetch_olivetti_faces()"
      ]
    },
    {
      "cell_type": "markdown",
      "metadata": {
        "id": "2CaDnfDili8c"
      },
      "source": [
        "## Practicing Slicing of Matrices"
      ]
    },
    {
      "cell_type": "markdown",
      "metadata": {
        "id": "yqoicELAa2yt"
      },
      "source": [
        "# Image Compression"
      ]
    },
    {
      "cell_type": "markdown",
      "metadata": {
        "id": "50hEkXWhnibG"
      },
      "source": [
        "We have images (in grayscale) of size $64 \\times 64$ pixels. These can be represented as an $64 \\times 64$ matrix of numbers. The goal is to see if we can represent this matrix in a compressed way so that we don't need 64^2 numbers.\n",
        "\n",
        "The parameter k will represent the rank of the compressed matrix.\n",
        "\n",
        "Run the code blocks above and below to get started."
      ]
    },
    {
      "cell_type": "code",
      "execution_count": null,
      "metadata": {
        "colab": {
          "base_uri": "https://localhost:8080/",
          "height": 237
        },
        "id": "i-gvo5FRng2s",
        "outputId": "afbac5ad-c5dc-4d2a-fdfc-375b05cf7750"
      },
      "outputs": [
        {
          "data": {
            "text/plain": [
              "<matplotlib.image.AxesImage at 0x7cd0f7591840>"
            ]
          },
          "execution_count": 2,
          "metadata": {},
          "output_type": "execute_result"
        },
        {
          "data": {
            "image/png": "[encoded data removed]",
            "text/plain": [
              "<Figure size 200x200 with 1 Axes>"
            ]
          },
          "metadata": {},
          "output_type": "display_data"
        }
      ],
      "source": [
        "images = data.images\n",
        "image_num = 33  # can be anything from 0 to 399\n",
        "plt.subplots(figsize=(2, 2)) # choose size of plot\n",
        "plt.imshow(images[image_num,:,:], cmap=plt.cm.gray) # plot the image"
      ]
    },
    {
      "cell_type": "markdown",
      "metadata": {
        "id": "KuTaUxZZin0D"
      },
      "source": [
        "(a) The code above should generate an image. (If it doesn't, scroll up to the top and make sure you've evaluated the import statements.) Change the image number to verify that you can generate different faces.\n",
        "\n",
        "When satisfied, please run the code chunk below to prepare for the next section."
      ]
    },
    {
      "cell_type": "code",
      "execution_count": null,
      "metadata": {
        "id": "_kqdAisza2yu"
      },
      "outputs": [],
      "source": [
        "%pip install -U ipytest  #this will take a minute to run\n",
        "import ipytest\n",
        "ipytest.autoconfig()"
      ]
    },
    {
      "cell_type": "markdown",
      "metadata": {
        "id": "NXI33MBGa2yu"
      },
      "source": [
        "\n",
        "\n",
        "## Matrix Reconstruction\n",
        "\n",
        "We are now going to represent each faces matrix in a compressed way, using a process called SVD. Any matrix M can be written as a product of three matrices:\n",
        "\n",
        "$$ M = U S V^T,$$\n",
        "\n",
        "where the matrix $S$ only has non-zero entries on the diagonal.\n",
        "SVD (a function in the numpy library) calculates these three matrices (called U, S and V), as you can see in the function below. To restore the original matrix, they can just be multiplied together. However, our goal is not just to reconstruct the original matrix, but rather to compress it.\n",
        "\n",
        "Your task is to slice off parts of these matrices to keep only the most important parts.  This produces smaller matrices, U', S' and V':\n",
        "\n",
        "$$ M = U' S' V'^T. ~~~~(approximately)$$\n",
        "\n",
        "This allows M to be represented in a compressed way, but you'll find that if you slice off too much of each matrix, the reconstructed image won't be a good match to the original.\n",
        "\n",
        "(b) Fill in the blanks to achieve the following slicing:\n",
        "\n",
        "In S, keep the top k rows and top k columns\n",
        "\n",
        "In U, keep all the rows and only the top k columns\n",
        "\n",
        "In V, keep all the columns and only the top k rows"
      ]
    },
    {
      "cell_type": "code",
      "execution_count": null,
      "metadata": {
        "id": "6cPwx_gWVqoO"
      },
      "outputs": [],
      "source": [
        "%%ipytest\n",
        "# Returns the best rank-k approximation to M\n",
        "def reconstruct(M, k):\n",
        "    U, S_values, V = np.linalg.svd(M, full_matrices=False)\n",
        "    S = np.diag(S_values)\n",
        "    Sprime = S[0:k, 0:k]\n",
        "    Uprime = U[:,0:k]\n",
        "    Vprime = V[0:k, :]\n",
        "    print(Uprime)\n",
        "    return np.dot(np.dot(Uprime,Sprime),Vprime) #approximation of M\n",
        "\n",
        "def test_slicing():\n",
        "  m = np.matrix('1 2 3; 3 4 5; 6 7 8') # matrix for testing purposes\n",
        "  m_reconstructed = reconstruct(m,1) # call the reconstruction function with k = 1\n",
        "  m_correct_result = np.matrix('1.68331528 2.07660348 2.46989168; 3.26667312 4.02989556 4.79311799;5.64170987 6.95983366 8.27795746')\n",
        "  assert np.allclose(m_reconstructed, m_correct_result)"
      ]
    },
    {
      "cell_type": "markdown",
      "metadata": {
        "id": "EKfrcwtQkm68"
      },
      "source": [
        "You should see \"1 passed in 0.04s\" as the result of running the code above. If your slicing is incorrect, the pytest will tell you that the assertion failed, or you'll get some other error. When your function definition passes the test, continue.\n",
        "\n",
        "The following test uses a larger matrix. With k = 6, the reconstruction should be so similar to the original matrix that it should pass this unit test. If it doesn't, please fix your code for \"def reconstruct(M, k).\"  "
      ]
    },
    {
      "cell_type": "code",
      "execution_count": null,
      "metadata": {
        "id": "ou3k3TgqcSMU"
      },
      "outputs": [],
      "source": [
        "%%ipytest\n",
        "# Don't change anything in this code block until your function passes this test\n",
        "\n",
        "def test_reconstruction():  # tests definition of reconstruct()\n",
        "  random.seed(10)\n",
        "  test_matrix = np.random.randn(9, 6)\n",
        "  k = 6  #once it passes the test, you can change this value.\n",
        "\n",
        "  # check that matrices are almost identical\n",
        "  assert np.allclose(test_matrix, reconstruct(test_matrix,k))\n"
      ]
    },
    {
      "cell_type": "markdown",
      "metadata": {
        "id": "BFrvB4F0gtBP"
      },
      "source": [
        "\n",
        "\n",
        "(c) At this point, your code should have successfully passed these tests. Now reduce the value of k in the code chunk above. You should notice that if k is too small, the test will fail. This is expected behavior; it doesn't mean something needs to be fixed. It just means that you can only compress an image so far before it stops looking like the original image! What value of k do you find to be too small?\n",
        "\n",
        "## Enter your failed value of k here: _________\n",
        "\n",
        "Change the value of k back to k = 6 and run the code again before continuing on."
      ]
    },
    {
      "cell_type": "markdown",
      "metadata": {
        "id": "CB0ewAx_ppKt"
      },
      "source": [
        "The following code picks an image in the dataset (I chose #33) and displays the following side-by-side as images: the original, and the rank-$k$ approximations for various values of k.\n",
        "Try the code block below to make sure it works. Then try it for different images numbers (change image_num)."
      ]
    },
    {
      "cell_type": "code",
      "execution_count": null,
      "metadata": {
        "id": "VJH0JmNEa2yv"
      },
      "outputs": [],
      "source": [
        "image_num = 33 #TODO: you can change this\n",
        "reconstructed_list = [images[image_num,:,:]]\n",
        "k_list = [0]\n",
        "for k in range(2,19,3): #TODO: you can change this range (in a new code chunk)\n",
        "    M = images[image_num,:,:] #select the image\n",
        "    A = reconstruct(M,k) #reconstruct the image\n",
        "    reconstructed_list.append(A)\n",
        "    k_list.append(k)\n",
        "n_images = len(reconstructed_list) #includes the original as the first one\n",
        "plt.figure(figsize=(12, 12))\n",
        "for k in range(len(k_list)):\n",
        "    ax = plt.subplot(1,n_images,k+1)\n",
        "    plt.imshow(reconstructed_list[k], cmap=plt.cm.gray)\n",
        "    if k>0: ax.set_title(f\"k={k_list[k]}\")\n",
        "    if k==0: ax.set_title(\"Original\")"
      ]
    },
    {
      "cell_type": "markdown",
      "metadata": {
        "id": "vcbFNQj5gq0a"
      },
      "source": [
        "Notice that this appears in the code:\n",
        "range(2,19,3)\n",
        "\n",
        "This means, \"start with k = 2, go up in steps of 3 and stop before you hit 19.\"  Copy-paste the entire code block into a new code chunk below so we can try a different range but retain the images you've already generated. Change the range so that the images printed are:\n",
        "\n",
        "original, k = 1, k= 3, k = 5, k = 7, and k = 9."
      ]
    },
    {
      "cell_type": "code",
      "execution_count": null,
      "metadata": {
        "id": "gG1DMZsJhgmp"
      },
      "outputs": [],
      "source": [
        "#paste your code here"
      ]
    }
  ],
  "metadata": {
    "colab": {
      "provenance": [],
      "include_colab_link": true
    },
    "kernelspec": {
      "display_name": "Python 3 (ipykernel)",
      "language": "python",
      "name": "python3"
    },
    "language_info": {
      "codemirror_mode": {
        "name": "ipython",
        "version": 3
      },
      "file_extension": ".py",
      "mimetype": "text/x-python",
      "name": "python",
      "nbconvert_exporter": "python",
      "pygments_lexer": "ipython3",
      "version": "3.9.7"
    }
  },
  "nbformat": 4,
  "nbformat_minor": 0
}